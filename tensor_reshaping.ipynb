{
 "cells": [
  {
   "cell_type": "markdown",
   "id": "willing-reggae",
   "metadata": {},
   "source": [
    "# Tensor reshaping"
   ]
  },
  {
   "cell_type": "code",
   "execution_count": 1,
   "id": "pressing-intermediate",
   "metadata": {},
   "outputs": [
    {
     "name": "stdout",
     "output_type": "stream",
     "text": [
      "tensor([0, 1, 2, 3, 4, 5, 6, 7, 8])\n"
     ]
    }
   ],
   "source": [
    "import torch\n",
    "\n",
    "x = torch.arange(9)\n",
    "print(x)"
   ]
  },
  {
   "cell_type": "code",
   "execution_count": 3,
   "id": "designing-serial",
   "metadata": {},
   "outputs": [
    {
     "name": "stdout",
     "output_type": "stream",
     "text": [
      "tensor([[0, 1, 2],\n",
      "        [3, 4, 5],\n",
      "        [6, 7, 8]])\n"
     ]
    }
   ],
   "source": [
    "# view and reshape are quite similar\n",
    "# x_3x3 = x.view(3,3)\n",
    "x_3x3 = x.reshape(3,3)\n",
    "print(x_3x3)"
   ]
  },
  {
   "cell_type": "markdown",
   "id": "tight-andrews",
   "metadata": {},
   "source": [
    "# Transpose"
   ]
  },
  {
   "cell_type": "code",
   "execution_count": 5,
   "id": "bridal-geometry",
   "metadata": {},
   "outputs": [
    {
     "name": "stdout",
     "output_type": "stream",
     "text": [
      "tensor([[0, 3, 6],\n",
      "        [1, 4, 7],\n",
      "        [2, 5, 8]])\n",
      "tensor([0, 3, 6, 1, 4, 7, 2, 5, 8])\n"
     ]
    }
   ],
   "source": [
    "y = x_3x3.t()\n",
    "print(y)\n",
    "print(y.reshape(9))"
   ]
  },
  {
   "cell_type": "code",
   "execution_count": 7,
   "id": "scientific-macintosh",
   "metadata": {},
   "outputs": [
    {
     "name": "stdout",
     "output_type": "stream",
     "text": [
      "tensor([[0.1319, 0.0867, 0.5919, 0.8516, 0.9666],\n",
      "        [0.6912, 0.3022, 0.0957, 0.6012, 0.4135]])\n",
      "tensor([[0.5707, 0.3442, 0.5932, 0.1327, 0.3291],\n",
      "        [0.2213, 0.1019, 0.1571, 0.9507, 0.0191]])\n",
      "tensor([[0.1319, 0.0867, 0.5919, 0.8516, 0.9666],\n",
      "        [0.6912, 0.3022, 0.0957, 0.6012, 0.4135],\n",
      "        [0.5707, 0.3442, 0.5932, 0.1327, 0.3291],\n",
      "        [0.2213, 0.1019, 0.1571, 0.9507, 0.0191]])\n",
      "torch.Size([4, 5])\n",
      "tensor([[0.1319, 0.0867, 0.5919, 0.8516, 0.9666, 0.5707, 0.3442, 0.5932, 0.1327,\n",
      "         0.3291],\n",
      "        [0.6912, 0.3022, 0.0957, 0.6012, 0.4135, 0.2213, 0.1019, 0.1571, 0.9507,\n",
      "         0.0191]])\n",
      "torch.Size([2, 10])\n"
     ]
    }
   ],
   "source": [
    "x1 = torch.rand((2,5))\n",
    "print(x1)\n",
    "x2 = torch.rand((2,5))\n",
    "print(x2)\n",
    "# concatenates the given sequence of seq tensors in the given dimension\n",
    "print(torch.cat((x1,x2),dim=0))\n",
    "print(torch.cat((x1,x2),dim=0).shape)\n",
    "print(torch.cat((x1,x2),dim=1))\n",
    "print(torch.cat((x1,x2),dim=1).shape)"
   ]
  },
  {
   "cell_type": "code",
   "execution_count": null,
   "id": "tracked-single",
   "metadata": {},
   "outputs": [],
   "source": []
  }
 ],
 "metadata": {
  "kernelspec": {
   "display_name": "Python 3",
   "language": "python",
   "name": "python3"
  },
  "language_info": {
   "codemirror_mode": {
    "name": "ipython",
    "version": 3
   },
   "file_extension": ".py",
   "mimetype": "text/x-python",
   "name": "python",
   "nbconvert_exporter": "python",
   "pygments_lexer": "ipython3",
   "version": "3.8.5"
  }
 },
 "nbformat": 4,
 "nbformat_minor": 5
}
