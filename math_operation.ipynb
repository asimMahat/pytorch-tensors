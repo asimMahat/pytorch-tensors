{
 "cells": [
  {
   "cell_type": "markdown",
   "id": "perfect-imperial",
   "metadata": {},
   "source": [
    "# Tensor Math and Comparision Operation"
   ]
  },
  {
   "cell_type": "code",
   "execution_count": 1,
   "id": "musical-minimum",
   "metadata": {},
   "outputs": [],
   "source": [
    "import torch"
   ]
  },
  {
   "cell_type": "code",
   "execution_count": 3,
   "id": "advisory-chance",
   "metadata": {},
   "outputs": [],
   "source": [
    "x = torch.tensor([1,2,3])\n",
    "y = torch.tensor([7,8,9])"
   ]
  },
  {
   "cell_type": "markdown",
   "id": "central-mustang",
   "metadata": {},
   "source": [
    "# Addition"
   ]
  },
  {
   "cell_type": "code",
   "execution_count": 4,
   "id": "prospective-practitioner",
   "metadata": {},
   "outputs": [
    {
     "name": "stdout",
     "output_type": "stream",
     "text": [
      "tensor([ 8, 10, 12])\n"
     ]
    }
   ],
   "source": [
    "z = torch.add(x,y)\n",
    "print(z)"
   ]
  },
  {
   "cell_type": "code",
   "execution_count": 5,
   "id": "measured-brother",
   "metadata": {},
   "outputs": [
    {
     "name": "stdout",
     "output_type": "stream",
     "text": [
      "tensor([ 8, 10, 12])\n"
     ]
    }
   ],
   "source": [
    "z = x + y\n",
    "print(z)"
   ]
  },
  {
   "cell_type": "markdown",
   "id": "civil-junction",
   "metadata": {},
   "source": [
    "# Subtraction"
   ]
  },
  {
   "cell_type": "code",
   "execution_count": 6,
   "id": "former-raising",
   "metadata": {},
   "outputs": [
    {
     "name": "stdout",
     "output_type": "stream",
     "text": [
      "tensor([-6, -6, -6])\n"
     ]
    }
   ],
   "source": [
    "z = x-y\n",
    "print(z)"
   ]
  },
  {
   "cell_type": "markdown",
   "id": "aggregate-study",
   "metadata": {},
   "source": [
    "# Division ( element wise division)"
   ]
  },
  {
   "cell_type": "code",
   "execution_count": 7,
   "id": "equivalent-lawrence",
   "metadata": {},
   "outputs": [
    {
     "name": "stdout",
     "output_type": "stream",
     "text": [
      "tensor([0.1429, 0.2500, 0.3333])\n"
     ]
    }
   ],
   "source": [
    "z = torch.true_divide(x,y)\n",
    "print(z)"
   ]
  },
  {
   "cell_type": "markdown",
   "id": "optimum-amber",
   "metadata": {},
   "source": [
    "# Exponentiation"
   ]
  },
  {
   "cell_type": "code",
   "execution_count": 8,
   "id": "dependent-pendant",
   "metadata": {},
   "outputs": [
    {
     "name": "stdout",
     "output_type": "stream",
     "text": [
      "tensor([1, 4, 9])\n"
     ]
    }
   ],
   "source": [
    "z = x.pow(2)\n",
    "print(z)\n"
   ]
  },
  {
   "cell_type": "markdown",
   "id": "voluntary-citizenship",
   "metadata": {},
   "source": [
    "# Inplace operations "
   ]
  },
  {
   "cell_type": "code",
   "execution_count": 10,
   "id": "serial-gross",
   "metadata": {},
   "outputs": [
    {
     "name": "stdout",
     "output_type": "stream",
     "text": [
      "tensor([2., 4., 6.])\n"
     ]
    }
   ],
   "source": [
    "t = torch.zeros(3)\n",
    "t.add_(x)\n",
    "t += x  #t=t+x\n",
    "print(t)"
   ]
  },
  {
   "cell_type": "markdown",
   "id": "therapeutic-quilt",
   "metadata": {},
   "source": [
    "# Single Comparision"
   ]
  },
  {
   "cell_type": "code",
   "execution_count": 11,
   "id": "sound-monte",
   "metadata": {},
   "outputs": [
    {
     "name": "stdout",
     "output_type": "stream",
     "text": [
      "tensor([True, True, True])\n"
     ]
    }
   ],
   "source": [
    "z = x>0\n",
    "print (z)"
   ]
  },
  {
   "cell_type": "markdown",
   "id": "surrounded-register",
   "metadata": {},
   "source": [
    "# Matrix Multiplication"
   ]
  },
  {
   "cell_type": "code",
   "execution_count": 18,
   "id": "supposed-grant",
   "metadata": {},
   "outputs": [
    {
     "name": "stdout",
     "output_type": "stream",
     "text": [
      "tensor([[1.4358, 1.3279, 1.7352, 1.8768],\n",
      "        [0.7212, 1.3235, 1.3533, 1.3182]])\n"
     ]
    }
   ],
   "source": [
    "x1 = torch.rand((2,5))\n",
    "# print(x1)\n",
    "x2 = torch.rand((5,4))\n",
    "# print(x2)\n",
    "x3 = torch.mm(x1,x2)\n",
    "print(x3)"
   ]
  },
  {
   "cell_type": "markdown",
   "id": "ranging-opera",
   "metadata": {},
   "source": [
    "# Matrix Exponentiation"
   ]
  },
  {
   "cell_type": "code",
   "execution_count": 19,
   "id": "accomplished-grave",
   "metadata": {},
   "outputs": [
    {
     "name": "stdout",
     "output_type": "stream",
     "text": [
      "tensor([[0.1086, 0.8254, 0.0907, 0.3425, 0.0934],\n",
      "        [0.7261, 0.7899, 0.8464, 0.7229, 0.0189],\n",
      "        [0.6092, 0.1171, 0.5518, 0.7659, 0.9648],\n",
      "        [0.7376, 0.4428, 0.7283, 0.1384, 0.0955],\n",
      "        [0.0524, 0.7676, 0.3708, 0.0481, 0.7404]])\n",
      "tensor([[2.0121, 2.1549, 2.1146, 1.9351, 1.3421],\n",
      "        [3.6534, 4.3658, 4.0210, 3.3740, 2.7415],\n",
      "        [2.9328, 3.8884, 3.4746, 2.8745, 2.5660],\n",
      "        [2.4526, 3.0060, 2.7855, 2.1299, 1.8065],\n",
      "        [2.4487, 2.9745, 2.8083, 2.2871, 2.0069]])\n"
     ]
    }
   ],
   "source": [
    "matrix_exp = torch.rand(5,5)\n",
    "print(matrix_exp)\n",
    "print(matrix_exp.matrix_power(3))\n"
   ]
  },
  {
   "cell_type": "markdown",
   "id": "major-madison",
   "metadata": {},
   "source": [
    "# Element Wise matrix multiplication"
   ]
  },
  {
   "cell_type": "code",
   "execution_count": 20,
   "id": "diverse-julian",
   "metadata": {},
   "outputs": [
    {
     "name": "stdout",
     "output_type": "stream",
     "text": [
      "tensor([ 7, 16, 27])\n"
     ]
    }
   ],
   "source": [
    "z = x*y\n",
    "print(z)\n"
   ]
  },
  {
   "cell_type": "markdown",
   "id": "fifth-cyprus",
   "metadata": {},
   "source": [
    "# Dot Product"
   ]
  },
  {
   "cell_type": "code",
   "execution_count": 21,
   "id": "annual-rescue",
   "metadata": {},
   "outputs": [
    {
     "name": "stdout",
     "output_type": "stream",
     "text": [
      "tensor(50)\n"
     ]
    }
   ],
   "source": [
    "z = torch.dot(x,y)\n",
    "print(z)\n"
   ]
  },
  {
   "cell_type": "markdown",
   "id": "supreme-smile",
   "metadata": {},
   "source": [
    "# Batch matrix multiplicaiton"
   ]
  },
  {
   "cell_type": "code",
   "execution_count": 22,
   "id": "authentic-length",
   "metadata": {},
   "outputs": [
    {
     "name": "stdout",
     "output_type": "stream",
     "text": [
      "tensor([[[6.6042, 7.2259, 4.8116,  ..., 6.9335, 5.3164, 4.8397],\n",
      "         [7.3137, 7.2447, 6.3860,  ..., 7.1917, 6.3964, 5.9104],\n",
      "         [5.0181, 5.6200, 4.0689,  ..., 5.3122, 3.8328, 3.8208],\n",
      "         ...,\n",
      "         [5.3247, 6.9737, 4.4168,  ..., 5.5474, 5.1130, 4.6704],\n",
      "         [5.6383, 6.3610, 4.2503,  ..., 5.7390, 4.4092, 4.2215],\n",
      "         [7.1515, 8.8144, 5.3308,  ..., 7.5979, 6.3226, 6.0068]],\n",
      "\n",
      "        [[3.9703, 5.5151, 4.3698,  ..., 5.1806, 6.0258, 3.3284],\n",
      "         [4.8865, 5.3797, 4.5759,  ..., 5.5212, 6.6854, 4.6043],\n",
      "         [4.2409, 5.6889, 4.2670,  ..., 4.5512, 6.2271, 3.7184],\n",
      "         ...,\n",
      "         [5.9605, 6.3328, 5.0815,  ..., 5.6400, 7.5370, 4.2454],\n",
      "         [5.7520, 5.1173, 4.5635,  ..., 5.1418, 6.5609, 3.9333],\n",
      "         [4.6420, 5.7545, 4.8745,  ..., 6.1971, 5.9858, 3.5646]],\n",
      "\n",
      "        [[4.6963, 4.9081, 4.6227,  ..., 5.0408, 4.5399, 5.6337],\n",
      "         [5.0439, 4.9147, 3.9046,  ..., 4.5644, 5.4252, 5.1532],\n",
      "         [5.5598, 4.8949, 4.2542,  ..., 5.9544, 5.7971, 6.4523],\n",
      "         ...,\n",
      "         [4.5030, 3.8842, 3.7829,  ..., 4.1377, 5.0572, 5.2861],\n",
      "         [4.7883, 4.6629, 4.3425,  ..., 5.2257, 4.2285, 5.5902],\n",
      "         [3.8479, 4.5409, 3.2429,  ..., 4.4661, 4.1587, 4.4675]],\n",
      "\n",
      "        ...,\n",
      "\n",
      "        [[6.2187, 5.4156, 6.9447,  ..., 5.2268, 5.4310, 6.3157],\n",
      "         [7.0836, 5.9434, 6.6263,  ..., 5.4994, 6.2759, 6.3906],\n",
      "         [5.4503, 5.2064, 5.5348,  ..., 4.3038, 5.1047, 5.6175],\n",
      "         ...,\n",
      "         [4.6206, 4.2684, 5.3535,  ..., 3.9347, 4.2993, 4.2879],\n",
      "         [5.4494, 5.5170, 5.8981,  ..., 4.8342, 6.0287, 5.6342],\n",
      "         [5.5134, 5.2253, 5.9664,  ..., 4.3862, 5.5354, 6.1200]],\n",
      "\n",
      "        [[5.1083, 5.3098, 5.8825,  ..., 3.4924, 5.7588, 6.4738],\n",
      "         [4.0910, 4.5299, 5.5230,  ..., 3.8884, 4.4927, 5.3280],\n",
      "         [4.6975, 3.9063, 4.9025,  ..., 2.3871, 3.9807, 4.9600],\n",
      "         ...,\n",
      "         [4.1390, 4.3380, 5.2027,  ..., 3.6127, 3.9860, 5.2930],\n",
      "         [4.8679, 5.2568, 5.8038,  ..., 3.7379, 5.1175, 6.1015],\n",
      "         [5.6841, 5.4189, 6.0272,  ..., 3.7800, 4.9103, 5.9907]],\n",
      "\n",
      "        [[3.8886, 4.4249, 4.4903,  ..., 4.2280, 4.0624, 3.0315],\n",
      "         [5.6282, 6.8875, 6.7116,  ..., 6.9793, 5.4726, 4.0917],\n",
      "         [4.4080, 5.9847, 5.0768,  ..., 4.9876, 5.1328, 3.5642],\n",
      "         ...,\n",
      "         [5.1806, 6.5891, 5.7760,  ..., 6.0156, 5.1528, 4.4500],\n",
      "         [4.1615, 5.6094, 4.9863,  ..., 5.3276, 4.3856, 3.8293],\n",
      "         [4.6625, 6.6606, 5.6384,  ..., 6.3938, 5.6374, 4.7628]]])\n"
     ]
    }
   ],
   "source": [
    "batch = 32\n",
    "n =10\n",
    "m = 20\n",
    "p =30\n",
    "\n",
    "tensor1 = torch.rand(batch,n,m)\n",
    "tensor2 = torch.rand(batch,m,p)\n",
    "\n",
    "out_bmm = torch.bmm(tensor1,tensor2)\n",
    "print(out_bmm)"
   ]
  },
  {
   "cell_type": "markdown",
   "id": "engaged-flashing",
   "metadata": {},
   "source": [
    "# Broadcasting Example"
   ]
  },
  {
   "cell_type": "code",
   "execution_count": 25,
   "id": "casual-black",
   "metadata": {},
   "outputs": [
    {
     "name": "stdout",
     "output_type": "stream",
     "text": [
      "tensor([[0.8216, 0.8936, 0.8867, 0.4860, 0.7860],\n",
      "        [0.2696, 0.4360, 0.0041, 0.2071, 0.2486],\n",
      "        [0.7227, 0.9788, 0.7047, 0.9737, 0.2014],\n",
      "        [0.1496, 0.7671, 0.4813, 0.2486, 0.1263],\n",
      "        [0.8676, 0.0525, 0.6724, 0.0983, 0.1565]])\n",
      "tensor([[0.3052, 0.4981, 0.8994, 0.7619, 0.8351]])\n",
      "tensor([[ 0.5164,  0.3955, -0.0127, -0.2759, -0.0491],\n",
      "        [-0.0355, -0.0622, -0.8953, -0.5548, -0.5865],\n",
      "        [ 0.4176,  0.4807, -0.1947,  0.2117, -0.6338],\n",
      "        [-0.1556,  0.2690, -0.4181, -0.5134, -0.7088],\n",
      "        [ 0.5624, -0.4457, -0.2270, -0.6637, -0.6787]])\n"
     ]
    }
   ],
   "source": [
    "x1 = torch.rand((5,5))\n",
    "print(x1)\n",
    "x2 = torch.rand((1,5))\n",
    "print(x2)\n",
    "z = x1-x2 \n",
    "print(z)"
   ]
  },
  {
   "cell_type": "code",
   "execution_count": null,
   "id": "international-alcohol",
   "metadata": {},
   "outputs": [],
   "source": []
  }
 ],
 "metadata": {
  "kernelspec": {
   "display_name": "Python 3",
   "language": "python",
   "name": "python3"
  },
  "language_info": {
   "codemirror_mode": {
    "name": "ipython",
    "version": 3
   },
   "file_extension": ".py",
   "mimetype": "text/x-python",
   "name": "python",
   "nbconvert_exporter": "python",
   "pygments_lexer": "ipython3",
   "version": "3.8.5"
  }
 },
 "nbformat": 4,
 "nbformat_minor": 5
}
