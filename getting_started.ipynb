{
 "cells": [
  {
   "cell_type": "code",
   "execution_count": 1,
   "id": "automatic-certification",
   "metadata": {},
   "outputs": [],
   "source": [
    "import torch"
   ]
  },
  {
   "cell_type": "markdown",
   "id": "indirect-mercy",
   "metadata": {},
   "source": [
    "# Choosing devices\n"
   ]
  },
  {
   "cell_type": "code",
   "execution_count": 2,
   "id": "informal-letter",
   "metadata": {},
   "outputs": [],
   "source": [
    "device = \"cuda\" if torch.cuda.is_available() else \"cpu\""
   ]
  },
  {
   "cell_type": "markdown",
   "id": "sacred-freeware",
   "metadata": {},
   "source": [
    "# Working with tensor"
   ]
  },
  {
   "cell_type": "code",
   "execution_count": 7,
   "id": "addressed-spouse",
   "metadata": {},
   "outputs": [],
   "source": [
    "my_tensor = torch.tensor (([[3,4,5],[2,3,4]]), dtype = torch.float\n",
    "            ,device = device, requires_grad = True)"
   ]
  },
  {
   "cell_type": "code",
   "execution_count": 8,
   "id": "registered-hawaii",
   "metadata": {},
   "outputs": [
    {
     "name": "stdout",
     "output_type": "stream",
     "text": [
      "tensor([[3., 4., 5.],\n",
      "        [2., 3., 4.]], requires_grad=True)\n",
      "torch.float32\n",
      "cpu\n",
      "torch.Size([2, 3])\n",
      "True\n"
     ]
    }
   ],
   "source": [
    "print(my_tensor)\n",
    "print(my_tensor.dtype)\n",
    "print(my_tensor.device)\n",
    "print(my_tensor.shape)\n",
    "print(my_tensor.requires_grad)"
   ]
  },
  {
   "cell_type": "markdown",
   "id": "emotional-tomorrow",
   "metadata": {},
   "source": [
    "# Other common initialization methods"
   ]
  },
  {
   "cell_type": "code",
   "execution_count": 9,
   "id": "asian-nerve",
   "metadata": {},
   "outputs": [
    {
     "name": "stdout",
     "output_type": "stream",
     "text": [
      "tensor([[-1.6339e+10,  4.5625e-41,  2.8026e-45],\n",
      "        [ 0.0000e+00,  2.5816e-02,  3.0771e-41],\n",
      "        [-1.6339e+10,  4.5625e-41,  1.4013e-45]])\n"
     ]
    }
   ],
   "source": [
    "x = torch.empty(size = (3,3))\n",
    "print(x)"
   ]
  },
  {
   "cell_type": "code",
   "execution_count": 10,
   "id": "clinical-accreditation",
   "metadata": {},
   "outputs": [
    {
     "name": "stdout",
     "output_type": "stream",
     "text": [
      "tensor([[0., 0., 0.],\n",
      "        [0., 0., 0.],\n",
      "        [0., 0., 0.]])\n"
     ]
    }
   ],
   "source": [
    "x = torch.zeros(3,3)\n",
    "print(x)"
   ]
  },
  {
   "cell_type": "code",
   "execution_count": 11,
   "id": "atlantic-victoria",
   "metadata": {},
   "outputs": [
    {
     "name": "stdout",
     "output_type": "stream",
     "text": [
      "tensor([[0.8805, 0.2499, 0.9307],\n",
      "        [0.4338, 0.6099, 0.6402],\n",
      "        [0.9752, 0.1932, 0.1853]])\n"
     ]
    }
   ],
   "source": [
    "x = torch.rand(3,3)\n",
    "print(x)"
   ]
  },
  {
   "cell_type": "code",
   "execution_count": 12,
   "id": "smart-valve",
   "metadata": {},
   "outputs": [
    {
     "name": "stdout",
     "output_type": "stream",
     "text": [
      "tensor([[1., 0., 0., 0., 0.],\n",
      "        [0., 1., 0., 0., 0.],\n",
      "        [0., 0., 1., 0., 0.],\n",
      "        [0., 0., 0., 1., 0.],\n",
      "        [0., 0., 0., 0., 1.]])\n"
     ]
    }
   ],
   "source": [
    "x = torch.eye(5,5) #Returns a 2-D tensor with ones on the diagonal and zeros elsewhere\n",
    "print(x)"
   ]
  },
  {
   "cell_type": "code",
   "execution_count": 14,
   "id": "sunrise-winter",
   "metadata": {},
   "outputs": [
    {
     "name": "stdout",
     "output_type": "stream",
     "text": [
      "tensor([0, 1, 2, 3, 4])\n"
     ]
    }
   ],
   "source": [
    "x = torch.arange(start=0,end=5,step=1) # Returns 1-D tensor\n",
    "print(x)"
   ]
  },
  {
   "cell_type": "code",
   "execution_count": 16,
   "id": "practical-reaction",
   "metadata": {},
   "outputs": [
    {
     "name": "stdout",
     "output_type": "stream",
     "text": [
      "tensor([0.1000, 0.2000, 0.3000, 0.4000, 0.5000, 0.6000, 0.7000, 0.8000, 0.9000,\n",
      "        1.0000])\n"
     ]
    }
   ],
   "source": [
    "x = torch.linspace(start=0.1,end=1,steps=10)\n",
    "print(x)"
   ]
  },
  {
   "cell_type": "code",
   "execution_count": 24,
   "id": "under-entertainment",
   "metadata": {},
   "outputs": [
    {
     "name": "stdout",
     "output_type": "stream",
     "text": [
      "tensor([[ 1.5867, -0.5360, -0.3342, -1.5922, -1.4569]])\n",
      "2\n"
     ]
    }
   ],
   "source": [
    "x = torch.empty(size=(1,5)).normal_(mean=0,std=1) #Returns 2-D tensor with mean=0 and std=1 \n",
    "print(x)\n",
    "print(x.dim()) # to find the dimension of the tensor"
   ]
  },
  {
   "cell_type": "code",
   "execution_count": 25,
   "id": "offensive-kingdom",
   "metadata": {},
   "outputs": [
    {
     "name": "stdout",
     "output_type": "stream",
     "text": [
      "tensor([[0.8244, 0.5427, 0.2747, 0.9517, 0.9998]])\n",
      "2\n"
     ]
    }
   ],
   "source": [
    "x = torch.empty(size=(1,5)).uniform_(0,1) # Returns 2-D tensor from 0-1\n",
    "print(x)\n",
    "print(x.dim())"
   ]
  },
  {
   "cell_type": "code",
   "execution_count": 26,
   "id": "superior-shaft",
   "metadata": {},
   "outputs": [
    {
     "name": "stdout",
     "output_type": "stream",
     "text": [
      "tensor([[1., 0., 0.],\n",
      "        [0., 1., 0.],\n",
      "        [0., 0., 1.]])\n"
     ]
    }
   ],
   "source": [
    "x = torch.diag(torch.ones(3)) #Returns 2-D tensor with the diagonal 1\n",
    "print(x)"
   ]
  },
  {
   "cell_type": "markdown",
   "id": "coordinate-egyptian",
   "metadata": {},
   "source": [
    "# Initializing and converting tensors into different types"
   ]
  },
  {
   "cell_type": "code",
   "execution_count": 30,
   "id": "severe-aside",
   "metadata": {},
   "outputs": [
    {
     "name": "stdout",
     "output_type": "stream",
     "text": [
      "tensor([0, 1, 2, 3])\n"
     ]
    }
   ],
   "source": [
    "tensor = torch.arange(4)\n",
    "print(tensor)"
   ]
  },
  {
   "cell_type": "code",
   "execution_count": 31,
   "id": "respiratory-diameter",
   "metadata": {},
   "outputs": [
    {
     "name": "stdout",
     "output_type": "stream",
     "text": [
      "torch.int64\n",
      "tensor([False,  True,  True,  True])\n",
      "tensor([0, 1, 2, 3], dtype=torch.int16)\n",
      "tensor([0, 1, 2, 3])\n",
      "tensor([0., 1., 2., 3.], dtype=torch.float16)\n",
      "tensor([0., 1., 2., 3.], dtype=torch.float64)\n"
     ]
    }
   ],
   "source": [
    "print(tensor.dtype)\n",
    "print(tensor.bool())\n",
    "print(tensor.short())\n",
    "print(tensor.long())\n",
    "print(tensor.half())\n",
    "print(tensor.double())"
   ]
  },
  {
   "cell_type": "markdown",
   "id": "happy-flood",
   "metadata": {},
   "source": [
    "# Numpy array to tensor conversion and vice versa"
   ]
  },
  {
   "cell_type": "code",
   "execution_count": 33,
   "id": "operational-committee",
   "metadata": {},
   "outputs": [
    {
     "name": "stdout",
     "output_type": "stream",
     "text": [
      "[[1. 1. 1. 1. 1.]\n",
      " [1. 1. 1. 1. 1.]\n",
      " [1. 1. 1. 1. 1.]\n",
      " [1. 1. 1. 1. 1.]\n",
      " [1. 1. 1. 1. 1.]]\n"
     ]
    }
   ],
   "source": [
    "import numpy as np\n",
    "np_array = np.ones((5,5))\n",
    "print(np_array)"
   ]
  },
  {
   "cell_type": "code",
   "execution_count": 34,
   "id": "aquatic-reach",
   "metadata": {},
   "outputs": [
    {
     "name": "stdout",
     "output_type": "stream",
     "text": [
      "tensor([[1., 1., 1., 1., 1.],\n",
      "        [1., 1., 1., 1., 1.],\n",
      "        [1., 1., 1., 1., 1.],\n",
      "        [1., 1., 1., 1., 1.],\n",
      "        [1., 1., 1., 1., 1.]], dtype=torch.float64)\n"
     ]
    }
   ],
   "source": [
    "tensor = torch.from_numpy(np_array)\n",
    "print(tensor)"
   ]
  },
  {
   "cell_type": "code",
   "execution_count": null,
   "id": "parallel-prison",
   "metadata": {},
   "outputs": [],
   "source": [
    "numpy_array_back = tensor.numpy(tensor)\n",
    "print(nump)"
   ]
  }
 ],
 "metadata": {
  "kernelspec": {
   "display_name": "Python 3",
   "language": "python",
   "name": "python3"
  },
  "language_info": {
   "codemirror_mode": {
    "name": "ipython",
    "version": 3
   },
   "file_extension": ".py",
   "mimetype": "text/x-python",
   "name": "python",
   "nbconvert_exporter": "python",
   "pygments_lexer": "ipython3",
   "version": "3.8.5"
  }
 },
 "nbformat": 4,
 "nbformat_minor": 5
}
